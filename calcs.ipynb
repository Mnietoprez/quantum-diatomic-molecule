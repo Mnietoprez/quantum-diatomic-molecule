{
 "cells": [
  {
   "cell_type": "code",
   "execution_count": 653,
   "id": "52a51180",
   "metadata": {},
   "outputs": [],
   "source": [
    "import sympy as sp\n",
    "import matplotlib.pyplot as plt\n",
    "import numpy as np"
   ]
  },
  {
   "attachments": {},
   "cell_type": "markdown",
   "id": "12e2899b",
   "metadata": {},
   "source": [
    "Cálculos computacionales para el trabajo académico física estadística.\n",
    "\n",
    "Por Ainoo Pérez, Debinamaca, Nieto Pérez, Marco, Mompó Ruiz, Lluis, Molina O'Brien, Marcos, Osa Bonillo, Matilde and Regal Sevilla, Mateo "
   ]
  },
  {
   "attachments": {},
   "cell_type": "markdown",
   "id": "178e48a9",
   "metadata": {},
   "source": [
    "## Caso: E vibración rango completo de T"
   ]
  },
  {
   "cell_type": "code",
   "execution_count": 654,
   "id": "920834ea",
   "metadata": {},
   "outputs": [
    {
     "data": {
      "text/latex": [
       "$\\displaystyle \\frac{e^{- \\frac{B h w}{2}}}{1 - e^{- B h w}}$"
      ],
      "text/plain": [
       "exp(-B*h*w/2)/(1 - exp(-B*h*w))"
      ]
     },
     "execution_count": 654,
     "metadata": {},
     "output_type": "execute_result"
    }
   ],
   "source": [
    "h,w,B = sp.symbols('h,w,B',positive=True)\n",
    "Zvib = sp.exp(-B*h*w/2)/(1-sp.exp(-B*h*w))\n",
    "Zvib"
   ]
  },
  {
   "cell_type": "code",
   "execution_count": 655,
   "id": "9153cda1",
   "metadata": {},
   "outputs": [
    {
     "data": {
      "text/latex": [
       "$\\displaystyle \\frac{h w}{2 \\tanh{\\left(\\frac{B h w}{2} \\right)}}$"
      ],
      "text/plain": [
       "h*w/(2*tanh(B*h*w/2))"
      ]
     },
     "execution_count": 655,
     "metadata": {},
     "output_type": "execute_result"
    }
   ],
   "source": [
    "Evib = -sp.simplify(sp.diff(sp.log(Zvib),B))\n",
    "Evib"
   ]
  },
  {
   "cell_type": "code",
   "execution_count": 656,
   "id": "4e1f3fcc",
   "metadata": {},
   "outputs": [
    {
     "data": {
      "text/latex": [
       "$\\displaystyle \\frac{h w}{2 \\tanh{\\left(\\frac{h w}{2 T k} \\right)}}$"
      ],
      "text/plain": [
       "h*w/(2*tanh(h*w/(2*T*k)))"
      ]
     },
     "execution_count": 656,
     "metadata": {},
     "output_type": "execute_result"
    }
   ],
   "source": [
    "k,T = sp.symbols('k,T',positive=True)\n",
    "Evib = Evib.subs(B,1/(k*T))\n",
    "Evib"
   ]
  },
  {
   "cell_type": "code",
   "execution_count": 657,
   "id": "45e13579",
   "metadata": {},
   "outputs": [
    {
     "data": {
      "text/latex": [
       "$\\displaystyle \\frac{h^{2} w^{2} \\cdot \\left(1 - \\tanh^{2}{\\left(\\frac{h w}{2 T k} \\right)}\\right)}{4 T^{2} k \\tanh^{2}{\\left(\\frac{h w}{2 T k} \\right)}}$"
      ],
      "text/plain": [
       "h**2*w**2*(1 - tanh(h*w/(2*T*k))**2)/(4*T**2*k*tanh(h*w/(2*T*k))**2)"
      ]
     },
     "execution_count": 657,
     "metadata": {},
     "output_type": "execute_result"
    }
   ],
   "source": [
    "Cv = sp.diff(Evib,T)\n",
    "Cv"
   ]
  },
  {
   "cell_type": "code",
   "execution_count": 658,
   "id": "ec7403c8",
   "metadata": {},
   "outputs": [
    {
     "data": {
      "image/png": "[encoded data removed]",
      "text/plain": [
       "<Figure size 432x288 with 1 Axes>"
      ]
     },
     "metadata": {
      "needs_background": "light"
     },
     "output_type": "display_data"
    }
   ],
   "source": [
    "Tn = np.linspace(0,2500,1000)\n",
    "Cv = Cv.subs(h*w,10**-20).subs(k,1.38e-23)/1.38e-23\n",
    "C_v = []\n",
    "for i in Tn:\n",
    "    C_v.append(Cv.subs(T,i))\n",
    "plt.plot(Tn,C_v)\n",
    "plt.ylabel('$c_v$/$k_b$')\n",
    "plt.xlabel('T(K)')\n",
    "\n",
    "plt.grid()"
   ]
  },
  {
   "cell_type": "markdown",
   "id": "20e5ff95",
   "metadata": {},
   "source": [
    "## Caso: E rot rango T altas"
   ]
  },
  {
   "cell_type": "code",
   "execution_count": 659,
   "id": "18a33f3c",
   "metadata": {},
   "outputs": [
    {
     "data": {
      "text/latex": [
       "$\\displaystyle \\frac{8 \\pi^{2} r_{0}^{2} u}{B h^{2}}$"
      ],
      "text/plain": [
       "8*pi**2*r0**2*u/(B*h**2)"
      ]
     },
     "execution_count": 659,
     "metadata": {},
     "output_type": "execute_result"
    }
   ],
   "source": [
    "u,r0 = sp.symbols('u,r0',positive=True)\n",
    "Zrot = 8*sp.pi**2*u*r0**2/(B*h**2)\n",
    "Zrot"
   ]
  },
  {
   "cell_type": "code",
   "execution_count": 660,
   "id": "bce515cb",
   "metadata": {},
   "outputs": [
    {
     "data": {
      "text/latex": [
       "$\\displaystyle \\frac{1}{B}$"
      ],
      "text/plain": [
       "1/B"
      ]
     },
     "execution_count": 660,
     "metadata": {},
     "output_type": "execute_result"
    }
   ],
   "source": [
    "Erot = -sp.simplify(sp.diff(sp.log(Zrot),B))\n",
    "Erot"
   ]
  },
  {
   "cell_type": "code",
   "execution_count": 661,
   "id": "47e66131",
   "metadata": {},
   "outputs": [
    {
     "data": {
      "text/latex": [
       "$\\displaystyle T k$"
      ],
      "text/plain": [
       "T*k"
      ]
     },
     "execution_count": 661,
     "metadata": {},
     "output_type": "execute_result"
    }
   ],
   "source": [
    "Erot = Erot.subs(B,1/(k*T))\n",
    "Erot"
   ]
  },
  {
   "cell_type": "code",
   "execution_count": 662,
   "id": "216a45b4",
   "metadata": {},
   "outputs": [
    {
     "data": {
      "text/latex": [
       "$\\displaystyle k$"
      ],
      "text/plain": [
       "k"
      ]
     },
     "execution_count": 662,
     "metadata": {},
     "output_type": "execute_result"
    }
   ],
   "source": [
    "Cv_rot_alta = sp.diff(Erot,T)\n",
    "Cv_rot_alta"
   ]
  },
  {
   "cell_type": "code",
   "execution_count": 663,
   "id": "7142919f",
   "metadata": {},
   "outputs": [
    {
     "data": {
      "image/png": "[encoded data removed]",
      "text/plain": [
       "<Figure size 432x288 with 1 Axes>"
      ]
     },
     "metadata": {
      "needs_background": "light"
     },
     "output_type": "display_data"
    }
   ],
   "source": [
    "Tn_altas = np.linspace(2500,5000,1000)\n",
    "Cv_rot_alta = Cv_rot_alta.subs(k,1.38e-23)/1.38e-23\n",
    "Cv_rot_alta = [Cv_rot_alta]\n",
    "C_v_rot_alta = Cv_rot_alta *len(Tn_altas)\n",
    "plt.plot(Tn_altas,C_v_rot_alta)\n",
    "plt.ylabel('$c_v$/$k_b$')\n",
    "plt.xlabel('T(K)')\n",
    "plt.grid()"
   ]
  },
  {
   "attachments": {},
   "cell_type": "markdown",
   "id": "79071c15",
   "metadata": {},
   "source": [
    "## Caso: E rot rango T bajas (2 términos)"
   ]
  },
  {
   "cell_type": "code",
   "execution_count": 664,
   "id": "13cefb67",
   "metadata": {},
   "outputs": [
    {
     "data": {
      "text/latex": [
       "$\\displaystyle \\frac{3 h^{2}}{2 r_{0}^{2} u \\left(e^{\\frac{B h^{2}}{2 r_{0}^{2} u}} + 3\\right)}$"
      ],
      "text/plain": [
       "3*h**2/(2*r0**2*u*(exp(B*h**2/(2*r0**2*u)) + 3))"
      ]
     },
     "execution_count": 664,
     "metadata": {},
     "output_type": "execute_result"
    }
   ],
   "source": [
    "Zrot2 = 1+3*sp.exp(-B*h**2/(2*u*r0**2))\n",
    "Erot2 = -sp.simplify(sp.diff(sp.log(Zrot2),B))\n",
    "Erot2"
   ]
  },
  {
   "cell_type": "code",
   "execution_count": 665,
   "id": "4f924633",
   "metadata": {},
   "outputs": [
    {
     "data": {
      "text/latex": [
       "$\\displaystyle \\frac{3 h^{2}}{2 r_{0}^{2} u \\left(e^{\\frac{h^{2}}{2 T k r_{0}^{2} u}} + 3\\right)}$"
      ],
      "text/plain": [
       "3*h**2/(2*r0**2*u*(exp(h**2/(2*T*k*r0**2*u)) + 3))"
      ]
     },
     "execution_count": 665,
     "metadata": {},
     "output_type": "execute_result"
    }
   ],
   "source": [
    "Erot2 = Erot2.subs(B,1/(k*T))\n",
    "Erot2"
   ]
  },
  {
   "cell_type": "code",
   "execution_count": 666,
   "id": "10e8c206",
   "metadata": {},
   "outputs": [
    {
     "data": {
      "text/latex": [
       "$\\displaystyle \\frac{3 h^{4} e^{\\frac{h^{2}}{2 T k r_{0}^{2} u}}}{4 T^{2} k r_{0}^{4} u^{2} \\left(e^{\\frac{h^{2}}{2 T k r_{0}^{2} u}} + 3\\right)^{2}}$"
      ],
      "text/plain": [
       "3*h**4*exp(h**2/(2*T*k*r0**2*u))/(4*T**2*k*r0**4*u**2*(exp(h**2/(2*T*k*r0**2*u)) + 3)**2)"
      ]
     },
     "execution_count": 666,
     "metadata": {},
     "output_type": "execute_result"
    }
   ],
   "source": [
    "Cv_rot_baja = sp.simplify(sp.diff(Erot2, T))\n",
    "Cv_rot_baja"
   ]
  },
  {
   "cell_type": "code",
   "execution_count": 667,
   "id": "a7ef57d6",
   "metadata": {},
   "outputs": [
    {
     "name": "stdout",
     "output_type": "stream",
     "text": [
      "0\n"
     ]
    },
    {
     "data": {
      "image/png": "[encoded data removed]",
      "text/plain": [
       "<Figure size 432x288 with 1 Axes>"
      ]
     },
     "metadata": {
      "needs_background": "light"
     },
     "output_type": "display_data"
    }
   ],
   "source": [
    "Tn_bajas = np.linspace(0,200,1000)\n",
    "Cv_rot_baja = Cv_rot_baja.subs(k,1.38e-23).subs(h,6.626e-34/(2*np.pi)).subs(u*r0**2,1.05456e-12)/1.38e-23\n",
    "C_v_rot_baja = []\n",
    "for i in Tn_bajas:\n",
    "    C_v_rot_baja.append(Cv_rot_baja.subs(T,i))\n",
    "plt.plot(Tn_bajas, C_v_rot_baja)\n",
    "plt.ylabel('$c_v$/$k_b$')\n",
    "plt.xlabel('T(K)')\n",
    "plt.grid()\n",
    "\n",
    "print (sp.limit(Cv_rot_baja, T, 0))"
   ]
  },
  {
   "attachments": {},
   "cell_type": "markdown",
   "id": "38073f1c",
   "metadata": {},
   "source": [
    "## Caso: E rot + vib rango T bajas"
   ]
  },
  {
   "cell_type": "code",
   "execution_count": 668,
   "id": "0479f63f",
   "metadata": {},
   "outputs": [
    {
     "data": {
      "text/latex": [
       "$\\displaystyle \\frac{\\left(1 + 3 e^{- \\frac{B h^{2}}{2 r_{0}^{2} u}}\\right) e^{- \\frac{B h w}{2}}}{1 - e^{- B h w}}$"
      ],
      "text/plain": [
       "(1 + 3*exp(-B*h**2/(2*r0**2*u)))*exp(-B*h*w/2)/(1 - exp(-B*h*w))"
      ]
     },
     "execution_count": 668,
     "metadata": {},
     "output_type": "execute_result"
    }
   ],
   "source": [
    "Z = Zvib*Zrot2\n",
    "Z"
   ]
  },
  {
   "cell_type": "code",
   "execution_count": 669,
   "id": "1666f08a",
   "metadata": {},
   "outputs": [
    {
     "data": {
      "text/latex": [
       "$\\displaystyle \\frac{h \\left(- \\frac{h^{2} w \\left(e^{\\frac{h w}{T k}} - 1\\right) e^{\\frac{h^{2}}{2 T k r_{0}^{2} u}}}{2 T^{2} k} - \\frac{3 h^{2} w e^{\\frac{h w}{T k}}}{T^{2} k} - \\frac{h^{2} w e^{\\frac{h^{2}}{2 T k r_{0}^{2} u}}}{T^{2} k} - \\frac{h r_{0}^{2} u w^{2} \\left(e^{\\frac{h^{2}}{2 T k r_{0}^{2} u}} + 3\\right) e^{\\frac{h w}{T k}}}{T^{2} k}\\right)}{2 r_{0}^{2} u \\left(e^{\\frac{h w}{T k}} - 1\\right) \\left(e^{\\frac{h^{2}}{2 T k r_{0}^{2} u}} + 3\\right)} + \\frac{h^{3} \\cdot \\left(3 h \\left(e^{\\frac{h w}{T k}} - 1\\right) + r_{0}^{2} u w \\left(e^{\\frac{h w}{T k}} - 1\\right) \\left(e^{\\frac{h^{2}}{2 T k r_{0}^{2} u}} + 3\\right) + 2 r_{0}^{2} u w \\left(e^{\\frac{h^{2}}{2 T k r_{0}^{2} u}} + 3\\right)\\right) e^{\\frac{h^{2}}{2 T k r_{0}^{2} u}}}{4 T^{2} k r_{0}^{4} u^{2} \\left(e^{\\frac{h w}{T k}} - 1\\right) \\left(e^{\\frac{h^{2}}{2 T k r_{0}^{2} u}} + 3\\right)^{2}} + \\frac{h^{2} w \\left(3 h \\left(e^{\\frac{h w}{T k}} - 1\\right) + r_{0}^{2} u w \\left(e^{\\frac{h w}{T k}} - 1\\right) \\left(e^{\\frac{h^{2}}{2 T k r_{0}^{2} u}} + 3\\right) + 2 r_{0}^{2} u w \\left(e^{\\frac{h^{2}}{2 T k r_{0}^{2} u}} + 3\\right)\\right) e^{\\frac{h w}{T k}}}{2 T^{2} k r_{0}^{2} u \\left(e^{\\frac{h w}{T k}} - 1\\right)^{2} \\left(e^{\\frac{h^{2}}{2 T k r_{0}^{2} u}} + 3\\right)}$"
      ],
      "text/plain": [
       "h*(-h**2*w*(exp(h*w/(T*k)) - 1)*exp(h**2/(2*T*k*r0**2*u))/(2*T**2*k) - 3*h**2*w*exp(h*w/(T*k))/(T**2*k) - h**2*w*exp(h**2/(2*T*k*r0**2*u))/(T**2*k) - h*r0**2*u*w**2*(exp(h**2/(2*T*k*r0**2*u)) + 3)*exp(h*w/(T*k))/(T**2*k))/(2*r0**2*u*(exp(h*w/(T*k)) - 1)*(exp(h**2/(2*T*k*r0**2*u)) + 3)) + h**3*(3*h*(exp(h*w/(T*k)) - 1) + r0**2*u*w*(exp(h*w/(T*k)) - 1)*(exp(h**2/(2*T*k*r0**2*u)) + 3) + 2*r0**2*u*w*(exp(h**2/(2*T*k*r0**2*u)) + 3))*exp(h**2/(2*T*k*r0**2*u))/(4*T**2*k*r0**4*u**2*(exp(h*w/(T*k)) - 1)*(exp(h**2/(2*T*k*r0**2*u)) + 3)**2) + h**2*w*(3*h*(exp(h*w/(T*k)) - 1) + r0**2*u*w*(exp(h*w/(T*k)) - 1)*(exp(h**2/(2*T*k*r0**2*u)) + 3) + 2*r0**2*u*w*(exp(h**2/(2*T*k*r0**2*u)) + 3))*exp(h*w/(T*k))/(2*T**2*k*r0**2*u*(exp(h*w/(T*k)) - 1)**2*(exp(h**2/(2*T*k*r0**2*u)) + 3))"
      ]
     },
     "execution_count": 669,
     "metadata": {},
     "output_type": "execute_result"
    }
   ],
   "source": [
    "E = -sp.simplify(sp.diff(sp.log(Z),B)).subs(B,1/(k*T))\n",
    "Cv_bajas = sp.diff(E,T)\n",
    "Cv_bajas"
   ]
  },
  {
   "cell_type": "code",
   "execution_count": 670,
   "id": "757477a8",
   "metadata": {},
   "outputs": [
    {
     "data": {
      "image/png": "[encoded data removed]",
      "text/plain": [
       "<Figure size 432x288 with 1 Axes>"
      ]
     },
     "metadata": {
      "needs_background": "light"
     },
     "output_type": "display_data"
    }
   ],
   "source": [
    "\n",
    "Cv_bajas = Cv_bajas.subs(k,1.38e-23).subs(h,6.626e-34/(2*np.pi)).subs(u*r0**2,1.05456e-12).subs(w,9.482621955e13)/1.38e-23\n",
    "C_v_bajas = []\n",
    "for i in Tn_bajas:\n",
    "    C_v_bajas.append(Cv_bajas.subs(T,i))\n",
    "\n",
    "C_v = []\n",
    "for i in Tn_bajas:\n",
    "    C_v.append(Cv.subs(T,i))\n",
    "\n",
    "\n",
    "plt.plot(Tn_bajas, C_v_bajas, \"k\", linestyle='dashed', label= '$c_{vrot} + c_{vvib}$')\n",
    "plt.plot(Tn_bajas, C_v, label= '$c_{vvib}$')\n",
    "plt.plot(Tn_bajas, C_v_rot_baja, label= '$c_{vrot}$' )\n",
    "plt.ylabel('$c_v$/$k_b$')\n",
    "plt.title('$T$ -> $ 0 $')\n",
    "plt.xlabel('T(K)')\n",
    "plt.legend()\n",
    "plt.grid()"
   ]
  },
  {
   "attachments": {},
   "cell_type": "markdown",
   "id": "c9e0911a",
   "metadata": {},
   "source": [
    "## Caso: E rot + vib rango T altas"
   ]
  },
  {
   "cell_type": "code",
   "execution_count": 671,
   "id": "829c416b",
   "metadata": {},
   "outputs": [
    {
     "data": {
      "text/latex": [
       "$\\displaystyle \\frac{8 \\pi^{2} r_{0}^{2} u e^{- \\frac{B h w}{2}}}{B h^{2} \\cdot \\left(1 - e^{- B h w}\\right)}$"
      ],
      "text/plain": [
       "8*pi**2*r0**2*u*exp(-B*h*w/2)/(B*h**2*(1 - exp(-B*h*w)))"
      ]
     },
     "execution_count": 671,
     "metadata": {},
     "output_type": "execute_result"
    }
   ],
   "source": [
    "Z = Zvib*Zrot\n",
    "Z"
   ]
  },
  {
   "cell_type": "code",
   "execution_count": 672,
   "id": "7e73c5ed",
   "metadata": {},
   "outputs": [
    {
     "data": {
      "text/latex": [
       "$\\displaystyle \\frac{T k \\left(- \\frac{3 h w e^{\\frac{h w}{T k}}}{T^{2} k} - \\frac{h w}{T^{2} k} - \\frac{h^{2} w^{2} e^{\\frac{h w}{T k}}}{T^{3} k^{2}}\\right)}{2 \\left(e^{\\frac{h w}{T k}} - 1\\right)} + \\frac{k \\left(2 e^{\\frac{h w}{T k}} - 2 + \\frac{h w e^{\\frac{h w}{T k}}}{T k} + \\frac{h w}{T k}\\right)}{2 \\left(e^{\\frac{h w}{T k}} - 1\\right)} + \\frac{h w \\left(2 e^{\\frac{h w}{T k}} - 2 + \\frac{h w e^{\\frac{h w}{T k}}}{T k} + \\frac{h w}{T k}\\right) e^{\\frac{h w}{T k}}}{2 T \\left(e^{\\frac{h w}{T k}} - 1\\right)^{2}}$"
      ],
      "text/plain": [
       "T*k*(-3*h*w*exp(h*w/(T*k))/(T**2*k) - h*w/(T**2*k) - h**2*w**2*exp(h*w/(T*k))/(T**3*k**2))/(2*(exp(h*w/(T*k)) - 1)) + k*(2*exp(h*w/(T*k)) - 2 + h*w*exp(h*w/(T*k))/(T*k) + h*w/(T*k))/(2*(exp(h*w/(T*k)) - 1)) + h*w*(2*exp(h*w/(T*k)) - 2 + h*w*exp(h*w/(T*k))/(T*k) + h*w/(T*k))*exp(h*w/(T*k))/(2*T*(exp(h*w/(T*k)) - 1)**2)"
      ]
     },
     "execution_count": 672,
     "metadata": {},
     "output_type": "execute_result"
    }
   ],
   "source": [
    "E = -sp.simplify(sp.diff(sp.log(Z),B)).subs(B,1/(k*T))\n",
    "Cv_altas = sp.diff(E,T)\n",
    "Cv_altas"
   ]
  },
  {
   "cell_type": "code",
   "execution_count": 673,
   "id": "115f37bc",
   "metadata": {},
   "outputs": [
    {
     "data": {
      "image/png": "[encoded data removed]",
      "text/plain": [
       "<Figure size 432x288 with 1 Axes>"
      ]
     },
     "metadata": {
      "needs_background": "light"
     },
     "output_type": "display_data"
    }
   ],
   "source": [
    "Cv_altas = Cv_altas.subs(k,1.38e-23).subs(h,6.626e-34/(2*np.pi)).subs(u*r0**2,1.05456e-12).subs(w,9.482621955e13)/1.38e-23\n",
    "C_v_altas = []\n",
    "for i in Tn_altas:\n",
    "    C_v_altas.append(Cv_altas.subs(T,i))\n",
    "\n",
    "C_v = []\n",
    "for i in Tn_altas:\n",
    "    C_v.append(Cv.subs(T,i))\n",
    "\n",
    "plt.plot(Tn_altas, C_v_altas, \"k\", linestyle='dashed', label= '$c_{vrot} + c_{vvib}$' )\n",
    "\n",
    "plt.plot(Tn_altas, C_v, label= '$c_{vvib}$')\n",
    "plt.plot(Tn_altas, C_v_rot_alta, label= '$c_{vrot}$' )\n",
    "plt.ylabel('$c_v$/$k_b$')\n",
    "plt.title('$T$ -> $ \\infty $')\n",
    "plt.xlabel('T(K)')\n",
    "plt.legend()\n",
    "plt.grid()\n",
    "plt.show()"
   ]
  }
 ],
 "metadata": {
  "kernelspec": {
   "display_name": "Python 3",
   "language": "python",
   "name": "python3"
  },
  "language_info": {
   "codemirror_mode": {
    "name": "ipython",
    "version": 3
   },
   "file_extension": ".py",
   "mimetype": "text/x-python",
   "name": "python",
   "nbconvert_exporter": "python",
   "pygments_lexer": "ipython3",
   "version": "3.9.12"
  }
 },
 "nbformat": 4,
 "nbformat_minor": 5
}
